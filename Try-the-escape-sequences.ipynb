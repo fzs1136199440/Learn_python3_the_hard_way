{
 "cells": [
  {
   "cell_type": "code",
   "execution_count": 2,
   "metadata": {},
   "outputs": [],
   "source": [
    "\\"
   ]
  },
  {
   "cell_type": "code",
   "execution_count": 5,
   "metadata": {},
   "outputs": [
    {
     "name": "stdout",
     "output_type": "stream",
     "text": [
      "\\\n"
     ]
    }
   ],
   "source": [
    "print(\"\\\\\")"
   ]
  },
  {
   "cell_type": "code",
   "execution_count": 36,
   "metadata": {},
   "outputs": [
    {
     "name": "stdout",
     "output_type": "stream",
     "text": [
      "\f",
      "\f",
      "learn\n"
     ]
    }
   ],
   "source": [
    "s = '\\f\\flearn'\n",
    "s\n",
    "print(s)"
   ]
  },
  {
   "cell_type": "code",
   "execution_count": 38,
   "metadata": {},
   "outputs": [
    {
     "name": "stdout",
     "output_type": "stream",
     "text": [
      "learn\n"
     ]
    }
   ],
   "source": [
    "s = '\\t\\blearn'\n",
    "print(s)"
   ]
  },
  {
   "cell_type": "code",
   "execution_count": 44,
   "metadata": {},
   "outputs": [
    {
     "name": "stdout",
     "output_type": "stream",
     "text": [
      "\u000b",
      "\u000b",
      "ll\n"
     ]
    }
   ],
   "source": [
    "print('\\v\\vll')"
   ]
  },
  {
   "cell_type": "code",
   "execution_count": 66,
   "metadata": {},
   "outputs": [
    {
     "name": "stdout",
     "output_type": "stream",
     "text": [
      "\n",
      "I'll do a list:\n",
      "* food\n",
      "\u000b",
      "* fruit\n",
      "\f",
      "* cake\n",
      "\n"
     ]
    }
   ],
   "source": [
    "f = \"\"\"\n",
    "I'll do a list:\n",
    "* food\n",
    "\\v* fruit\n",
    "\\f* cake\n",
    "\"\"\"\n",
    "print(f)"
   ]
  },
  {
   "cell_type": "code",
   "execution_count": 99,
   "metadata": {},
   "outputs": [
    {
     "name": "stdout",
     "output_type": "stream",
     "text": [
      "I'm learning \u000b",
      "the-craft-of-selfteaching.\n"
     ]
    }
   ],
   "source": [
    "c = \"\\vthe-craft-of-selfteaching\"\n",
    "f = '\\a\\b\\t\\bI\\'m a self-learner.\\r\\a\\bI\\'m learning {}.'\n",
    "print(f.format(c))"
   ]
  },
  {
   "cell_type": "code",
   "execution_count": 114,
   "metadata": {},
   "outputs": [
    {
     "name": "stdout",
     "output_type": "stream",
     "text": [
      "I'm learning the book named \u000b",
      "the-craft-of-selfteaching\n"
     ]
    }
   ],
   "source": [
    "a = f\"I'm learning the book named {c}\"\n",
    "print(a)"
   ]
  }
 ],
 "metadata": {
  "kernelspec": {
   "display_name": "Python 3.7.4 64-bit",
   "language": "python",
   "name": "python37464bit1a532d35e8ba4c4caff84fd8933f5dbb"
  },
  "language_info": {
   "codemirror_mode": {
    "name": "ipython",
    "version": 3
   },
   "file_extension": ".py",
   "mimetype": "text/x-python",
   "name": "python",
   "nbconvert_exporter": "python",
   "pygments_lexer": "ipython3",
   "version": "3.7.4"
  }
 },
 "nbformat": 4,
 "nbformat_minor": 4
}
