{
 "cells": [
  {
   "cell_type": "code",
   "execution_count": 78,
   "metadata": {},
   "outputs": [],
   "source": [
    "def operate(a, b):\n",
    "    a, b = float(a), float(b)\n",
    "    print(f\"a + b = {a + b}\")\n",
    "    print(f\"a - b = {a - b}\\nb - a = {b - a}\")\n",
    "    print(f\"a * b = {a * b}\")\n",
    "    print(f\"a / b = {a / b}\\nb / a = {b / a}\")\n",
    "    print(f\"a // b = {a // b}\\nb // a = {b // a}\")\n",
    "    print(f\"a % b = {a % b}\\nb % a = {b % a}\")\n",
    "    print(f\"a ** b = {a ** b}\\nb ** a = {b ** a}\")"
   ]
  },
  {
   "cell_type": "code",
   "execution_count": 77,
   "metadata": {},
   "outputs": [
    {
     "name": "stdout",
     "output_type": "stream",
     "text": [
      "a + b = 3.0\n",
      "a - b = -1.0\n",
      "b - a = 1.0\n",
      "a * b = 2.0\n",
      "a / b = 0.5\n",
      "b / a = 2.0\n",
      "a // b = 0.0\n",
      "b // a = 2.0\n",
      "a % b = 1.0\n",
      "b % a = 0.0\n",
      "a ** b = 1.0\n",
      "b ** a = 2.0\n"
     ]
    }
   ],
   "source": [
    "operate(1, 2)"
   ]
  },
  {
   "cell_type": "code",
   "execution_count": 11,
   "metadata": {},
   "outputs": [
    {
     "name": "stdout",
     "output_type": "stream",
     "text": [
      "a + b = 5\n",
      "a - b = -1\n",
      "b - a = 1\n",
      "a * b = 6\n",
      "a / b = 0.6666666666666666\n",
      "b / a = 1.5\n",
      "a // b = 0\n",
      "b // a = 1\n",
      "a % b = 2\n",
      "b % a = 1\n",
      "a ** b = 8\n",
      "b ** a = 9\n"
     ]
    }
   ],
   "source": [
    "a, b = 2, 3 \n",
    "operate(a, b)"
   ]
  },
  {
   "cell_type": "code",
   "execution_count": 12,
   "metadata": {},
   "outputs": [
    {
     "name": "stdout",
     "output_type": "stream",
     "text": [
      "a + b = 6\n",
      "a - b = 4\n",
      "b - a = -4\n",
      "a * b = 5\n",
      "a / b = 5.0\n",
      "b / a = 0.2\n",
      "a // b = 5\n",
      "b // a = 0\n",
      "a % b = 0\n",
      "b % a = 1\n",
      "a ** b = 5\n",
      "b ** a = 1\n"
     ]
    }
   ],
   "source": [
    "operate(a + 3, b - 2)"
   ]
  },
  {
   "cell_type": "code",
   "execution_count": 13,
   "metadata": {},
   "outputs": [
    {
     "name": "stdout",
     "output_type": "stream",
     "text": [
      "a + b = 13.5\n",
      "a - b = -10.5\n",
      "b - a = 10.5\n",
      "a * b = 18.0\n",
      "a / b = 0.125\n",
      "b / a = 8.0\n",
      "a // b = 0.0\n",
      "b // a = 8.0\n",
      "a % b = 1.5\n",
      "b % a = 0.0\n",
      "a ** b = 129.746337890625\n",
      "b ** a = 41.569219381653056\n"
     ]
    }
   ],
   "source": [
    "operate(3/2, 6*2)"
   ]
  },
  {
   "cell_type": "code",
   "execution_count": 14,
   "metadata": {},
   "outputs": [
    {
     "name": "stdout",
     "output_type": "stream",
     "text": [
      "a + b = 6\n",
      "a - b = 4\n",
      "b - a = -4\n",
      "a * b = 5\n",
      "a / b = 5.0\n",
      "b / a = 0.2\n",
      "a // b = 5\n",
      "b // a = 0\n",
      "a % b = 0\n",
      "b % a = 1\n",
      "a ** b = 5\n",
      "b ** a = 1\n"
     ]
    }
   ],
   "source": [
    "operate(a+b, b%a)"
   ]
  },
  {
   "cell_type": "code",
   "execution_count": 15,
   "metadata": {},
   "outputs": [
    {
     "name": "stdout",
     "output_type": "stream",
     "text": [
      "a + b = 9\n",
      "a - b = -3\n",
      "b - a = 3\n",
      "a * b = 18\n",
      "a / b = 0.5\n",
      "b / a = 2.0\n",
      "a // b = 0\n",
      "b // a = 2\n",
      "a % b = 3\n",
      "b % a = 0\n",
      "a ** b = 729\n",
      "b ** a = 216\n",
      "None\n"
     ]
    }
   ],
   "source": [
    "print(operate(b, a*b))"
   ]
  },
  {
   "cell_type": "code",
   "execution_count": 68,
   "metadata": {},
   "outputs": [
    {
     "name": "stdout",
     "output_type": "stream",
     "text": [
      "Output 7 kind of operations:\n",
      "a + b = 7\n",
      "a - b = -1\n",
      "b - a = 1\n",
      "a * b = 12\n",
      "a / b = 0.75\n",
      "b / a = 1.3333333333333333\n",
      "a // b = 0\n",
      "b // a = 1\n",
      "a % b = 3\n",
      "b % a = 1\n",
      "a ** b = 81\n",
      "b ** a = 64\n"
     ]
    }
   ],
   "source": [
    "print(\"Output 7 kind of operations:\")\n",
    "operate(3, 4)"
   ]
  },
  {
   "cell_type": "code",
   "execution_count": 70,
   "metadata": {},
   "outputs": [
    {
     "name": "stdout",
     "output_type": "stream",
     "text": [
      "Output 7 kind of operations:\n",
      "a + b = 6\n",
      "a - b = -2\n",
      "b - a = 2\n",
      "a * b = 8\n",
      "a / b = 0.5\n",
      "b / a = 2.0\n",
      "a // b = 0\n",
      "b // a = 2\n",
      "a % b = 2\n",
      "b % a = 0\n",
      "a ** b = 16\n",
      "b ** a = 16\n"
     ]
    }
   ],
   "source": [
    "print(\"Output 7 kind of operations:\")\n",
    "operate(a, b)"
   ]
  },
  {
   "cell_type": "code",
   "execution_count": 71,
   "metadata": {},
   "outputs": [
    {
     "name": "stdout",
     "output_type": "stream",
     "text": [
      "Output 7 kind of operations:\n",
      "a + b = 0.0\n",
      "a - b = -4.0\n",
      "b - a = 4.0\n",
      "a * b = -4.0\n",
      "a / b = -1.0\n",
      "b / a = -1.0\n",
      "a // b = -1.0\n",
      "b // a = -1.0\n",
      "a % b = 0.0\n",
      "b % a = -0.0\n",
      "a ** b = 4.0\n",
      "b ** a = 0.25\n"
     ]
    }
   ],
   "source": [
    "print(\"Output 7 kind of operations:\")\n",
    "operate(a-b, b/a)"
   ]
  },
  {
   "cell_type": "code",
   "execution_count": 72,
   "metadata": {},
   "outputs": [
    {
     "name": "stdout",
     "output_type": "stream",
     "text": [
      "Output 7 kind of operations:\n",
      "a + b = 16\n",
      "a - b = -8\n",
      "b - a = 8\n",
      "a * b = 48\n",
      "a / b = 0.3333333333333333\n",
      "b / a = 3.0\n",
      "a // b = 0\n",
      "b // a = 3\n",
      "a % b = 4\n",
      "b % a = 0\n",
      "a ** b = 16777216\n",
      "b ** a = 20736\n"
     ]
    }
   ],
   "source": [
    "print(\"Output 7 kind of operations:\")\n",
    "operate(a+2, b*3)"
   ]
  },
  {
   "cell_type": "code",
   "execution_count": 82,
   "metadata": {},
   "outputs": [
    {
     "name": "stdin",
     "output_type": "stream",
     "text": [
      "Enter a: 7.6\n",
      "enter b: 5.4\n"
     ]
    },
    {
     "name": "stdout",
     "output_type": "stream",
     "text": [
      "a + b = 13.0\n",
      "a - b = 2.1999999999999993\n",
      "b - a = -2.1999999999999993\n",
      "a * b = 41.04\n",
      "a / b = 1.4074074074074072\n",
      "b / a = 0.7105263157894738\n",
      "a // b = 1.0\n",
      "b // a = 0.0\n",
      "a % b = 2.1999999999999993\n",
      "b % a = 5.4\n",
      "a ** b = 57068.09799403718\n",
      "b ** a = 368292.24541486194\n"
     ]
    }
   ],
   "source": [
    "a, b = float(input(\"Enter a:\")), float(input(\"enter b:\"))\n",
    "operate(a, b)"
   ]
  }
 ],
 "metadata": {
  "kernelspec": {
   "display_name": "Python 3.7.4 64-bit",
   "language": "python",
   "name": "python37464bit1a532d35e8ba4c4caff84fd8933f5dbb"
  },
  "language_info": {
   "codemirror_mode": {
    "name": "ipython",
    "version": 3
   },
   "file_extension": ".py",
   "mimetype": "text/x-python",
   "name": "python",
   "nbconvert_exporter": "python",
   "pygments_lexer": "ipython3",
   "version": "3.7.4"
  }
 },
 "nbformat": 4,
 "nbformat_minor": 4
}
