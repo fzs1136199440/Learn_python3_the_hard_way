{
 "cells": [
  {
   "cell_type": "code",
   "execution_count": 5,
   "metadata": {},
   "outputs": [
    {
     "name": "stdout",
     "output_type": "stream",
     "text": [
      "How old are you? "
     ]
    },
    {
     "name": "stdin",
     "output_type": "stream",
     "text": [
      " 29\n"
     ]
    },
    {
     "name": "stdout",
     "output_type": "stream",
     "text": [
      "How tall are you? "
     ]
    },
    {
     "name": "stdin",
     "output_type": "stream",
     "text": [
      " 172cm\n"
     ]
    },
    {
     "name": "stdout",
     "output_type": "stream",
     "text": [
      "How much do you weight? "
     ]
    },
    {
     "name": "stdin",
     "output_type": "stream",
     "text": [
      " 65kg\n"
     ]
    },
    {
     "name": "stdout",
     "output_type": "stream",
     "text": [
      "So, you're 29 old,172cm tall and 65kg heavy.\n"
     ]
    }
   ],
   "source": [
    "print(\"How old are you?\", end=' ')\n",
    "age = input()\n",
    "print(\"How tall are you?\", end=' ')\n",
    "height = input()\n",
    "print(\"How much do you weight?\", end=' ')\n",
    "weight = input()\n",
    "\n",
    "print(f\"So, you're {age} old,{height} tall and {weight} heavy.\")"
   ]
  },
  {
   "cell_type": "code",
   "execution_count": 11,
   "metadata": {},
   "outputs": [
    {
     "name": "stdout",
     "output_type": "stream",
     "text": [
      "what do you do? "
     ]
    },
    {
     "name": "stdin",
     "output_type": "stream",
     "text": [
      " production line worker\n"
     ]
    },
    {
     "name": "stdout",
     "output_type": "stream",
     "text": [
      "Where are you from?\n"
     ]
    },
    {
     "name": "stdin",
     "output_type": "stream",
     "text": [
      " SiChuan\n"
     ]
    },
    {
     "name": "stdout",
     "output_type": "stream",
     "text": [
      "What do you like doing?\n"
     ]
    },
    {
     "name": "stdin",
     "output_type": "stream",
     "text": [
      " reading\n"
     ]
    },
    {
     "name": "stdout",
     "output_type": "stream",
     "text": [
      "So, your job is a production line worker, you are from SiChuan and you like reading.\n"
     ]
    }
   ],
   "source": [
    "print(\"what do you do?\", end=' ')\n",
    "job = input()\n",
    "print(\"Where are you from?\")\n",
    "birthplace = input()\n",
    "print(\"What do you like doing?\")\n",
    "like = input()\n",
    "\n",
    "print(f\"So, your job is a {job}, you are from {birthplace} and you like {like}.\")"
   ]
  },
  {
   "cell_type": "code",
   "execution_count": 12,
   "metadata": {},
   "outputs": [
    {
     "name": "stdin",
     "output_type": "stream",
     "text": [
      "What do you do: I'm a production line worker.\n",
      "What do you like: I like reading.\n",
      "What do you come from: I come from SiChuan.\n"
     ]
    },
    {
     "name": "stdout",
     "output_type": "stream",
     "text": [
      "So, I'm a production line worker. I like reading. I come from SiChuan.\n"
     ]
    }
   ],
   "source": [
    "job = input(\"What do you do:\")\n",
    "like = input(\"What do you like:\")\n",
    "birthplace = input(\"What do you come from:\")\n",
    "\n",
    "print(f\"So, {job} {like} {birthplace}\")"
   ]
  }
 ],
 "metadata": {
  "kernelspec": {
   "display_name": "Python 3.7.4 64-bit",
   "language": "python",
   "name": "python37464bit1a532d35e8ba4c4caff84fd8933f5dbb"
  },
  "language_info": {
   "codemirror_mode": {
    "name": "ipython",
    "version": 3
   },
   "file_extension": ".py",
   "mimetype": "text/x-python",
   "name": "python",
   "nbconvert_exporter": "python",
   "pygments_lexer": "ipython3",
   "version": "3.7.4"
  }
 },
 "nbformat": 4,
 "nbformat_minor": 4
}
